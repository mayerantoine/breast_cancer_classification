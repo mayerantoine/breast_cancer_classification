{
 "cells": [
  {
   "cell_type": "markdown",
   "metadata": {},
   "source": [
    "## Training Script RF - Breast Cancer Data"
   ]
  },
  {
   "cell_type": "code",
   "execution_count": 1,
   "metadata": {},
   "outputs": [],
   "source": [
    "import os\n",
    "os.makedirs('./scripts',exist_ok=True)"
   ]
  },
  {
   "cell_type": "code",
   "execution_count": 11,
   "metadata": {},
   "outputs": [
    {
     "name": "stdout",
     "output_type": "stream",
     "text": [
      "Overwriting ./scripts/train.py\n"
     ]
    }
   ],
   "source": [
    "%%writefile ./scripts/train.py\n",
    "from sklearn.linear_model import LogisticRegression\n",
    "import argparse\n",
    "import os\n",
    "import numpy as np\n",
    "from sklearn.metrics import mean_squared_error\n",
    "import joblib\n",
    "from sklearn.model_selection import train_test_split\n",
    "from sklearn.preprocessing import OneHotEncoder\n",
    "import pandas as pd\n",
    "from azureml.core.run import Run\n",
    "from azureml.data.dataset_factory import TabularDatasetFactory\n",
    "from sklearn.ensemble import RandomForestClassifier\n",
    "from sklearn.metrics import f1_score\n",
    "from azureml.core import Dataset\n",
    "import pandas as pd"
   ]
  },
  {
   "cell_type": "code",
   "execution_count": 12,
   "metadata": {},
   "outputs": [
    {
     "name": "stdout",
     "output_type": "stream",
     "text": [
      "Appending to ./scripts/train.py\n"
     ]
    }
   ],
   "source": [
    "%%writefile --append ./scripts/train.py\n",
    "\n",
    "\n",
    "#df = df.to_pandas_dataframe().dropna()\n",
    "#df = df.drop('Unnamed: 32',axis=1)\n",
    "#df = df.drop('id',axis=1)\n",
    "\n",
    "def clean_data(folder):\n",
    "    \n",
    "    run = Run.get_context()\n",
    "    ws = run.experiment.workspace\n",
    "    ds_tr = ws.get_default_datastore()\n",
    "    ds = Dataset.Tabular.from_delimited_files(path=ds_tr.path('cancerdata2/cancer_train_data.csv'))\n",
    "    \n",
    "    \n",
    "    #df = pd.read_csv(os.path.join(folder,'cancer_train_data.csv'))\n",
    "    df = ds.to_pandas_dataframe()\n",
    "    print(df)\n",
    "    #y = df['diagnosis'].apply(lambda x: 1 if x =='B' else 0).astype('category').copy()\n",
    "    y = df['diagnosis'].astype('category').copy()\n",
    "    X = df.drop('diagnosis',axis=1)\n",
    "\n",
    "    print(\"X cols:\",X.columns)\n",
    "    print(\"Training shape:\", X.shape)\n",
    "\n",
    "    x_train,x_test,y_train,y_test = train_test_split(X,y,random_state=42,test_size=0.25,stratify=y)\n",
    "    \n",
    "    return x_train,x_test,y_train,y_test \n",
    "\n",
    "\n",
    "\n",
    "def main():\n",
    "    # Add arguments to script\n",
    "    parser = argparse.ArgumentParser()\n",
    "\n",
    "    parser.add_argument('--data_folder',type=str,default='./data')\n",
    "    parser.add_argument('--n_estimators', type=int, default=40)\n",
    "    parser.add_argument('--max_depth', type=int, default=100)\n",
    "    parser.add_argument('--max_features',type=str,default='auto')\n",
    "    parser.add_argument('--min_samples_leaf',type=int,default =3)\n",
    "    \n",
    "    run = Run.get_context()\n",
    "    args = parser.parse_args()\n",
    "    \n",
    "    data_folder = args.data_folder\n",
    "    n_estimators = args.n_estimators\n",
    "    max_depth = args.max_depth\n",
    "    max_features = args.max_features\n",
    "    min_samples_leaf = args.min_samples_leaf\n",
    "    \n",
    "    print(data_folder)\n",
    "    x_train,x_test,y_train,y_test = clean_data(data_folder)\n",
    "\n",
    "    run.log(\"n_estimator:\", np.int(args.n_estimators))\n",
    "    run.log(\"max_depth:\", np.int(args.max_depth))\n",
    "    run.log(\"max_features:\", args.max_features)\n",
    "    run.log(\"min_samples_leaf:\", np.int(args.min_samples_leaf))\n",
    "\n",
    "    model = RandomForestClassifier(n_estimators = n_estimators,\n",
    "                                   max_depth = max_depth,\n",
    "                                   min_samples_leaf =min_samples_leaf, \n",
    "                                   max_features = max_features,\n",
    "                                   random_state = 41,\n",
    "                                   n_jobs=-1)\n",
    "    \n",
    "    model.fit(x_train, y_train)\n",
    "\n",
    "    accuracy = model.score(x_test, y_test)\n",
    "    run.log(\"accuracy\", np.float(accuracy))\n",
    "    \n",
    "    f1score = f1_score(model.predict(x_test),y_test)\n",
    "    run.log(\"f1score\", np.float(f1score))\n",
    "\n",
    "    \n",
    "     # Write the model to file.\n",
    "    model_path = \"./outputs/cancer_model.pkl\"\n",
    "    os.makedirs(\"outputs\", exist_ok=True)\n",
    "    print('Saving the model to {}'.format(model_path))\n",
    "    joblib.dump(model, model_path)\n",
    "\n",
    "if __name__ == '__main__':\n",
    "    main()"
   ]
  },
  {
   "cell_type": "code",
   "execution_count": 13,
   "metadata": {},
   "outputs": [],
   "source": [
    "#%run -t ./scripts/train.py  --data_folder './data' --n_estimators 40 --max_depth 3 --max_features 'sqrt' --min_samples_leaf 5"
   ]
  },
  {
   "cell_type": "code",
   "execution_count": null,
   "metadata": {},
   "outputs": [],
   "source": []
  },
  {
   "cell_type": "code",
   "execution_count": null,
   "metadata": {},
   "outputs": [],
   "source": []
  }
 ],
 "metadata": {
  "kernel_info": {
   "name": "python3-azureml"
  },
  "kernelspec": {
   "display_name": "Python 3.6 - AzureML",
   "language": "python",
   "name": "python3-azureml"
  },
  "language_info": {
   "codemirror_mode": {
    "name": "ipython",
    "version": 3
   },
   "file_extension": ".py",
   "mimetype": "text/x-python",
   "name": "python",
   "nbconvert_exporter": "python",
   "pygments_lexer": "ipython3",
   "version": "3.6.9"
  },
  "nteract": {
   "version": "nteract-front-end@1.0.0"
  }
 },
 "nbformat": 4,
 "nbformat_minor": 2
}
